{
 "cells": [
  {
   "cell_type": "markdown",
   "metadata": {},
   "source": [
    "# Mission to Mars\n"
   ]
  },
  {
   "cell_type": "code",
   "execution_count": 53,
   "metadata": {},
   "outputs": [
    {
     "name": "stdout",
     "output_type": "stream",
     "text": [
      "[<li><strong>Mars and Earth have approximately the same landmass.</strong><br/>\n",
      "Even though Mars has only 15% of the <a href=\"https://space-facts.com/earth/\">Earth’s</a> volume and just over 10% of the Earth’s mass, around two thirds of the Earth’s surface is covered in water. Martian surface gravity is only 37% of the Earth’s (meaning you could leap nearly three times higher on Mars).</li>, <li><strong>Mars is home to the tallest mountain in the solar system.</strong><br/>\n",
      "<a href=\"https://space-facts.com/mars-features/#olympus\">Olympus Mons</a>, a shield volcano, is 21km high and 600km in diameter. Despite having formed over billions of years, evidence from volcanic lava flows is so recent many scientists believe it could still be active.</li>, <li><strong>Only 18 missions to Mars have been successful.</strong><br/>\n",
      "As of September 2014 there have been 40 <a href=\"https://space-facts.com/mars-missions/\">missions to Mars</a>, including orbiters, landers and rovers but not counting flybys. The most recent arrivals include the Mars Curiosity mission in 2012, the MAVEN mission, which arrived on September 22, 2014, followed by the Indian Space Research Organization’s MOM Mangalyaan orbiter, which arrived on September 24, 2014. The next missions to arrive will be the European Space Agency’s ExoMars mission, comprising an orbiter, lander, and a rover, followed by NASA’s InSight robotic lander mission, slated for launch in March 2016 and a planned arrival in September, 2016.</li>, <li><strong>Mars has the largest dust storms in the solar system.</strong><br/>\n",
      "They can last for months and cover the entire planet. The seasons are extreme because its elliptical (oval-shaped) orbital path around the Sun is more elongated than most other planets in the <a href=\"https://space-facts.com/solar-system/\">solar system</a>.</li>, <li><strong>On Mars the Sun appears about half the size as it does on Earth.</strong><br/>\n",
      "At the closest point to the Sun, the Martian southern hemisphere leans towards the Sun, causing a short, intensely hot summer, while the northern hemisphere endures a brief, cold winter: at its farthest point from the Sun, the Martian northern hemisphere leans towards the Sun, causing a long, mild summer, while the southern hemisphere endures a lengthy, cold winter.</li>, <li><strong>Pieces of Mars have fallen to Earth.</strong><br/>\n",
      "Scientists have found tiny traces of Martian atmosphere within meteorites violently ejected from Mars, then orbiting the solar system amongst galactic debris for millions of years, before crash landing on Earth. This allowed scientists to begin studying Mars prior to launching space missions.</li>, <li><strong>Mars takes its name from the Roman god of war.</strong><br/>\n",
      "The ancient Greeks called the planet Ares, after their god of war; the Romans then did likewise, associating the planet’s blood-red colour with Mars, their own god of war. Interestingly, other ancient cultures also focused on colour – to China’s astronomers it was ‘the fire star’, whilst Egyptian priests called on ‘Her Desher’, or ‘the red one’. The red colour Mars is known for is due to the rock and dust covering its surface being rich in iron.</li>, <li><strong>There are signs of liquid water on Mars.</strong><br/>\n",
      "For years Mars has been known to have water in the form of ice. The first signs of trickling water are dark stripes or stains on crater wall and cliffs seen in satellite images. Due to Mars’ atmosphere this water would have to be salty to prevent it from freezing or vaporising.</li>, <li><strong>One day Mars will have a ring.</strong><br/>\n",
      "In the next 20-40 million years Mars’ largest moon Phobos will be torn apart by gravitational forces leading to the creation of a ring that could last up to 100 million years.</li>]\n"
     ]
    }
   ],
   "source": [
    "import time\n",
    "from splinter import Browser\n",
    "from bs4 import BeautifulSoup\n",
    "from selenium import webdriver\n",
    "import pandas as pd\n",
    "\n",
    "def init_browser():\n",
    "    # @NOTE: Replace the path with your actual path to the chromedriver\n",
    "    executable_path = {\"executable_path\": \"/usr/local/bin/chromedriver\"}\n",
    "    return Browser(\"chrome\", **executable_path, headless=False)\n",
    "\n",
    "def scrape():\n",
    "    browser = init_browser()\n",
    "    # create mars news dict that we can insert into mongo\n",
    "    mars_news = {}\n",
    "    \n",
    "    # visit mars.nasa.gov\n",
    "    mars_news_url = \"https://mars.nasa.gov/news/\"\n",
    "    browser.visit(mars_news_url)\n",
    "\n",
    "    html = browser.html\n",
    "    \n",
    "    # create a soup object from the html\n",
    "    soup = BeautifulSoup(html, \"html.parser\")\n",
    "    \n",
    "    # find the first news item\n",
    "    news_item = soup.find(\"li\", {\"class\": \"slide\"})\n",
    "    \n",
    "    # get the title text\n",
    "    item_title = news_item.find(\"div\", {\"class\": \"content_title\"})\n",
    "    item_title_text = item_title.find(\"a\").getText()\n",
    "    #return(item_title_text)\n",
    "\n",
    "    # get the item paragraph\n",
    "    item_para_text = news_item.find(\"div\", {\"class\": \"article_teaser_body\"}).getText()\n",
    "    #return(item_para_text)\n",
    "\n",
    "    # visit www.jpl.nasa.gov\n",
    "    mars_jpl_url = \"https://www.jpl.nasa.gov/spaceimages/?search=&category=Mars\"\n",
    "    browser.visit(mars_jpl_url)\n",
    "\n",
    "    html = browser.html\n",
    "    \n",
    "    # create a soup object from the html\n",
    "    soup = BeautifulSoup(html, \"html.parser\")\n",
    "    article=soup.find(\"article\", {\"class\": \"carousel_item\"})\n",
    "      \n",
    "    #find featured image url\n",
    "    featured_image_url=article.find(\"a\", {\"class\": \"button fancybox\"})['data-fancybox-href']\n",
    "        \n",
    "    # visit twitter.com\n",
    "    mars_weather_url = \"https://twitter.com/marswxreport?lang=en\"\n",
    "    browser.visit(mars_weather_url)\n",
    "\n",
    "    html = browser.html\n",
    "    \n",
    "    # create a soup object from the html\n",
    "    soup = BeautifulSoup(html, \"html.parser\")\n",
    "    mars_weather=soup.find(\"p\", {\"class\": \"TweetTextSize TweetTextSize--normal js-tweet-text tweet-text\"}).getText()\n",
    " \n",
    "    # visit space-facts.com/mars/\n",
    "    mars_facts_url = \"https://space-facts.com/mars/\"\n",
    "    browser.visit(mars_facts_url)\n",
    "\n",
    "    html = browser.html\n",
    "    \n",
    "    # create a soup object from the html\n",
    "    soup = BeautifulSoup(html, \"html.parser\")\n",
    "    mars_fact_frame=soup.findAll(\"ul\")[6]\n",
    "    mars_fact_list=mars_fact_frame.findAll(\"li\")\n",
    "    return(mars_fact_list)\n",
    "\n",
    "# helper function to build surf report\n",
    "#def build_report(surf_report):\n",
    "#    final_report = \"\"\n",
    "#    for p in surf_report:\n",
    "#        final_report += \" \" + p.get_text()\n",
    "#        print(final_report)\n",
    "#    return final_report\n",
    "\n",
    "soup=scrape()\n",
    "print(soup)"
   ]
  },
  {
   "cell_type": "code",
   "execution_count": null,
   "metadata": {
    "collapsed": true
   },
   "outputs": [],
   "source": []
  }
 ],
 "metadata": {
  "kernelspec": {
   "display_name": "Python 3",
   "language": "python",
   "name": "python3"
  },
  "language_info": {
   "codemirror_mode": {
    "name": "ipython",
    "version": 3
   },
   "file_extension": ".py",
   "mimetype": "text/x-python",
   "name": "python",
   "nbconvert_exporter": "python",
   "pygments_lexer": "ipython3",
   "version": "3.6.4"
  }
 },
 "nbformat": 4,
 "nbformat_minor": 2
}
