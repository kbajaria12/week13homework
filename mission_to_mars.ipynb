{
 "cells": [
  {
   "cell_type": "markdown",
   "metadata": {},
   "source": [
    "# Mission to Mars\n"
   ]
  },
  {
   "cell_type": "code",
   "execution_count": 45,
   "metadata": {},
   "outputs": [
    {
     "name": "stdout",
     "output_type": "stream",
     "text": [
      "<ul class=\"wpp-list\"> <li><a href=\"https://space-facts.com/jupiter/\" target=\"_self\" title=\"Jupiter Facts\"><img alt=\"Jupiter Facts\" class=\"wpp-thumbnail wpp_cached_thumb wpp_first_image\" height=\"20\" scale=\"0\" src=\"https://space-facts.com/wp-content/uploads/wordpress-popular-posts/8-first_image-20x20.png\" title=\"Jupiter Facts\" width=\"20\"/></a> <a class=\"wpp-post-title\" href=\"https://space-facts.com/jupiter/\" target=\"_self\" title=\"Jupiter Facts\">Jupiter</a> </li> <li><a href=\"https://space-facts.com/saturn/\" target=\"_self\" title=\"Saturn Facts\"><img alt=\"Saturn Facts\" class=\"wpp-thumbnail wpp_cached_thumb wpp_first_image\" height=\"20\" scale=\"0\" src=\"https://space-facts.com/wp-content/uploads/wordpress-popular-posts/261-first_image-20x20.png\" title=\"Saturn Facts\" width=\"20\"/></a> <a class=\"wpp-post-title\" href=\"https://space-facts.com/saturn/\" target=\"_self\" title=\"Saturn Facts\">Saturn</a> </li> <li><a href=\"https://space-facts.com/uranus/\" target=\"_self\" title=\"Uranus Facts\"><img alt=\"Uranus Facts\" class=\"wpp-thumbnail wpp_cached_thumb wpp_first_image\" height=\"20\" scale=\"0\" src=\"https://space-facts.com/wp-content/uploads/wordpress-popular-posts/314-first_image-20x20.jpg\" title=\"Uranus Facts\" width=\"20\"/></a> <a class=\"wpp-post-title\" href=\"https://space-facts.com/uranus/\" target=\"_self\" title=\"Uranus Facts\">Uranus</a> </li> <li><a href=\"https://space-facts.com/neptune/\" target=\"_self\" title=\"Neptune Facts\"><img alt=\"Neptune Facts\" class=\"wpp-thumbnail wpp_cached_thumb wpp_first_image\" height=\"20\" scale=\"0\" src=\"https://space-facts.com/wp-content/uploads/wordpress-popular-posts/191-first_image-20x20.png\" title=\"Neptune Facts\" width=\"20\"/></a> <a class=\"wpp-post-title\" href=\"https://space-facts.com/neptune/\" target=\"_self\" title=\"Neptune Facts\">Neptune</a> </li> </ul>\n"
     ]
    }
   ],
   "source": [
    "import time\n",
    "from splinter import Browser\n",
    "from bs4 import BeautifulSoup\n",
    "from selenium import webdriver\n",
    "import pandas as pd\n",
    "\n",
    "def init_browser():\n",
    "    # @NOTE: Replace the path with your actual path to the chromedriver\n",
    "    executable_path = {\"executable_path\": \"/usr/local/bin/chromedriver\"}\n",
    "    return Browser(\"chrome\", **executable_path, headless=False)\n",
    "\n",
    "def scrape():\n",
    "    browser = init_browser()\n",
    "    # create mars news dict that we can insert into mongo\n",
    "    mars_news = {}\n",
    "    \n",
    "    # visit mars.nasa.gov\n",
    "    mars_news_url = \"https://mars.nasa.gov/news/\"\n",
    "    browser.visit(mars_news_url)\n",
    "\n",
    "    html = browser.html\n",
    "    \n",
    "    # create a soup object from the html\n",
    "    soup = BeautifulSoup(html, \"html.parser\")\n",
    "    \n",
    "    # find the first news item\n",
    "    news_item = soup.find(\"li\", {\"class\": \"slide\"})\n",
    "    \n",
    "    # get the title text\n",
    "    item_title = news_item.find(\"div\", {\"class\": \"content_title\"})\n",
    "    item_title_text = item_title.find(\"a\").getText()\n",
    "    #return(item_title_text)\n",
    "\n",
    "    # get the item paragraph\n",
    "    item_para_text = news_item.find(\"div\", {\"class\": \"article_teaser_body\"}).getText()\n",
    "    #return(item_para_text)\n",
    "\n",
    "    # visit www.jpl.nasa.gov\n",
    "    mars_jpl_url = \"https://www.jpl.nasa.gov/spaceimages/?search=&category=Mars\"\n",
    "    browser.visit(mars_jpl_url)\n",
    "\n",
    "    html = browser.html\n",
    "    \n",
    "    # create a soup object from the html\n",
    "    soup = BeautifulSoup(html, \"html.parser\")\n",
    "    article=soup.find(\"article\", {\"class\": \"carousel_item\"})\n",
    "      \n",
    "    #find featured image url\n",
    "    featured_image_url=article.find(\"a\", {\"class\": \"button fancybox\"})['data-fancybox-href']\n",
    "        \n",
    "    # visit twitter.com\n",
    "    mars_weather_url = \"https://twitter.com/marswxreport?lang=en\"\n",
    "    browser.visit(mars_weather_url)\n",
    "\n",
    "    html = browser.html\n",
    "    \n",
    "    # create a soup object from the html\n",
    "    soup = BeautifulSoup(html, \"html.parser\")\n",
    "    mars_weather=soup.find(\"p\", {\"class\": \"TweetTextSize TweetTextSize--normal js-tweet-text tweet-text\"}).getText()\n",
    " \n",
    "    # visit space-facts.com/mars/\n",
    "    mars_facts_url = \"https://space-facts.com/mars/\"\n",
    "    browser.visit(mars_facts_url)\n",
    "\n",
    "    html = browser.html\n",
    "    \n",
    "    # create a soup object from the html\n",
    "    soup = BeautifulSoup(html, \"html.parser\")\n",
    "    mars_fact_list=soup.findAll(\"ul\")[12]\n",
    "    \n",
    "    return(mars_fact_list)\n",
    "\n",
    "# helper function to build surf report\n",
    "#def build_report(surf_report):\n",
    "#    final_report = \"\"\n",
    "#    for p in surf_report:\n",
    "#        final_report += \" \" + p.get_text()\n",
    "#        print(final_report)\n",
    "#    return final_report\n",
    "\n",
    "soup=scrape()\n",
    "print(soup)"
   ]
  },
  {
   "cell_type": "code",
   "execution_count": null,
   "metadata": {
    "collapsed": true
   },
   "outputs": [],
   "source": []
  }
 ],
 "metadata": {
  "kernelspec": {
   "display_name": "Python 3",
   "language": "python",
   "name": "python3"
  },
  "language_info": {
   "codemirror_mode": {
    "name": "ipython",
    "version": 3
   },
   "file_extension": ".py",
   "mimetype": "text/x-python",
   "name": "python",
   "nbconvert_exporter": "python",
   "pygments_lexer": "ipython3",
   "version": "3.6.4"
  }
 },
 "nbformat": 4,
 "nbformat_minor": 2
}
